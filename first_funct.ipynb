{
 "cells": [
  {
   "cell_type": "code",
   "execution_count": 12,
   "metadata": {},
   "outputs": [],
   "source": [
    "from huggingface_hub import login\n",
    "# hier fehlen die LoginDaten"
   ]
  },
  {
   "cell_type": "code",
   "execution_count": 17,
   "metadata": {
    "ExecuteTime": {
     "end_time": "2023-11-27T14:16:53.544446500Z",
     "start_time": "2023-11-27T14:16:52.723796Z"
    }
   },
   "outputs": [],
   "source": [
    "from huggingface_hub import HfApi\n",
    "api = HfApi()\n",
    "# HfApi.create_repo()\n",
    "file_path = \"testdata/abc.txt\"\n",
    "def upload_doc(file_path):\n",
    "    api.upload_file(\n",
    "        path_or_fileobj = file_path, \n",
    "        path_in_repo = \"abc.txt\",\n",
    "        repo_id = \"ProjektSeminarLSBIM/TestSet1\",\n",
    "        repo_type = \"dataset\",\n",
    "    )\n",
    "\n",
    "upload_doc(file_path=file_path)"
   ]
  },
  {
   "cell_type": "code",
   "execution_count": 13,
   "metadata": {
    "collapsed": false
   },
   "outputs": [
    {
     "data": {
      "text/plain": [
       "'https://huggingface.co/Julian-456/test-squash/blob/main/file.txt'"
      ]
     },
     "execution_count": 13,
     "metadata": {},
     "output_type": "execute_result"
    }
   ],
   "source": [
    "# from huggingface_hub import HfApi\n",
    "# api = HfApi()\n",
    "# repo_id = api.create_repo(\"test-squash\").repo_id\n",
    "\n",
    "# api.upload_file(repo_id=repo_id, path_in_repo=\"file.txt\", path_or_fileobj=b\"abc.txt\")"
   ]
  },
  {
   "cell_type": "code",
   "execution_count": 14,
   "metadata": {},
   "outputs": [
    {
     "name": "stdout",
     "output_type": "stream",
     "text": [
      "Julian-456/test-squash\n"
     ]
    }
   ],
   "source": [
    "# print(repo_id)"
   ]
  }
 ],
 "metadata": {
  "kernelspec": {
   "display_name": "venv",
   "language": "python",
   "name": "python3"
  },
  "language_info": {
   "codemirror_mode": {
    "name": "ipython",
    "version": 3
   },
   "file_extension": ".py",
   "mimetype": "text/x-python",
   "name": "python",
   "nbconvert_exporter": "python",
   "pygments_lexer": "ipython3",
   "version": "3.12.0"
  }
 },
 "nbformat": 4,
 "nbformat_minor": 2
}
